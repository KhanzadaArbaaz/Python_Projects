{
 "cells": [
  {
   "cell_type": "code",
   "execution_count": 5,
   "metadata": {},
   "outputs": [
    {
     "name": "stdout",
     "output_type": "stream",
     "text": [
      "enter amount 2000\n",
      "note0.0\n",
      "note2000.0\n",
      "No of 1000 notes is 2000.0\n"
     ]
    },
    {
     "ename": "NameError",
     "evalue": "name 'money_500' is not defined",
     "output_type": "error",
     "traceback": [
      "\u001b[1;31m---------------------------------------------------------------------------\u001b[0m",
      "\u001b[1;31mNameError\u001b[0m                                 Traceback (most recent call last)",
      "\u001b[1;32m<ipython-input-5-d2abd740e570>\u001b[0m in \u001b[0;36m<module>\u001b[1;34m\u001b[0m\n\u001b[0;32m     21\u001b[0m     \u001b[0mamount\u001b[0m \u001b[1;33m=\u001b[0m \u001b[0mamount\u001b[0m \u001b[1;33m-\u001b[0m \u001b[0mmoney_50\u001b[0m\u001b[1;33m\u001b[0m\u001b[1;33m\u001b[0m\u001b[0m\n\u001b[0;32m     22\u001b[0m \u001b[0mprint\u001b[0m\u001b[1;33m(\u001b[0m\u001b[1;34mf'No of 1000 notes is {money_1000}'\u001b[0m\u001b[1;33m)\u001b[0m\u001b[1;33m\u001b[0m\u001b[1;33m\u001b[0m\u001b[0m\n\u001b[1;32m---> 23\u001b[1;33m \u001b[0mprint\u001b[0m\u001b[1;33m(\u001b[0m\u001b[1;34mf'No of 500 notes is {money_500}'\u001b[0m\u001b[1;33m)\u001b[0m\u001b[1;33m\u001b[0m\u001b[1;33m\u001b[0m\u001b[0m\n\u001b[0m\u001b[0;32m     24\u001b[0m \u001b[0mprint\u001b[0m\u001b[1;33m(\u001b[0m\u001b[1;34mf'No of 100 notes is {money_100}'\u001b[0m\u001b[1;33m)\u001b[0m\u001b[1;33m\u001b[0m\u001b[1;33m\u001b[0m\u001b[0m\n\u001b[0;32m     25\u001b[0m \u001b[0mprint\u001b[0m\u001b[1;33m(\u001b[0m\u001b[1;34mf'No of 50 notes is {money_50}'\u001b[0m\u001b[1;33m)\u001b[0m\u001b[1;33m\u001b[0m\u001b[1;33m\u001b[0m\u001b[0m\n",
      "\u001b[1;31mNameError\u001b[0m: name 'money_500' is not defined"
     ]
    }
   ],
   "source": [
    "amount = int(input('enter amount '))\n",
    "\n",
    "\n",
    "if amount >= 1000:\n",
    "     note_1000 = amount/1000\n",
    "     money_1000 = note_1000*1000\n",
    "     amount = amount - money_1000\n",
    "     print (f'note{amount}')\n",
    "     print (f'note{money_1000}')\n",
    "elif amount >= 500:\n",
    "    note_500 = amount/500\n",
    "    money_500 = note_500*500\n",
    "    amount = amount - money_500\n",
    "elif amount >= 100:\n",
    "    note_100 = amount/100\n",
    "    money_100 = note_100*100\n",
    "    amount = amount - money_100\n",
    "elif amount >= 50:\n",
    "    note_50 = amount/50\n",
    "    money_50 = note_50*50\n",
    "    amount = amount - money_50\n",
    "print(f'No of 1000 notes is {money_1000}')\n",
    "print(f'No of 500 notes is {money_500}')\n",
    "print(f'No of 100 notes is {money_100}')\n",
    "print(f'No of 50 notes is {money_50}')"
   ]
  },
  {
   "cell_type": "markdown",
   "metadata": {},
   "source": [
    "# ATM Transaction"
   ]
  },
  {
   "cell_type": "code",
   "execution_count": 18,
   "metadata": {},
   "outputs": [
    {
     "name": "stdout",
     "output_type": "stream",
     "text": [
      "Enter Your Account balance  :20000\n",
      "How many amount do you want to transation : 500\n",
      "Thanks You For Transaction\n",
      "You Have done transaction amount :  500\n",
      "Your Current Balance is : 19500\n"
     ]
    }
   ],
   "source": [
    "amount=int(input('Enter Your Account balance  :'))\n",
    "\n",
    "transaction=int(input('How many amount do you want to transation : '))\n",
    "if transaction>amount:\n",
    "    print(\"Sorry ! Your Amount is high than your Current Balance !\")\n",
    "elif (transaction<=500) or (transaction<=50000):\n",
    "    Remain_Balance=amount-transaction\n",
    "    Amount_Transaction=transaction\n",
    "    print(\"Thanks You For Transaction\")\n",
    "    print(f\"You Have done transaction amount :  {Amount_Transaction}\\nYour Current Balance is : {Remain_Balance}\")\n",
    "\n",
    "    \n",
    "\n"
   ]
  },
  {
   "cell_type": "code",
   "execution_count": null,
   "metadata": {},
   "outputs": [],
   "source": []
  }
 ],
 "metadata": {
  "kernelspec": {
   "display_name": "Python 3",
   "language": "python",
   "name": "python3"
  },
  "language_info": {
   "codemirror_mode": {
    "name": "ipython",
    "version": 3
   },
   "file_extension": ".py",
   "mimetype": "text/x-python",
   "name": "python",
   "nbconvert_exporter": "python",
   "pygments_lexer": "ipython3",
   "version": "3.7.3"
  }
 },
 "nbformat": 4,
 "nbformat_minor": 2
}
